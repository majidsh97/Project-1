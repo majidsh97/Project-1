{
  "nbformat": 4,
  "nbformat_minor": 0,
  "metadata": {
    "colab": {
      "name": "audio.ipynb",
      "provenance": [],
      "collapsed_sections": [],
      "machine_shape": "hm",
      "include_colab_link": true
    },
    "kernelspec": {
      "name": "python3",
      "display_name": "Python 3"
    },
    "accelerator": "GPU"
  },
  "cells": [
    {
      "cell_type": "markdown",
      "metadata": {
        "id": "view-in-github",
        "colab_type": "text"
      },
      "source": [
        "<a href=\"https://colab.research.google.com/github/majidsh97/Project-1/blob/main/audio.ipynb\" target=\"_parent\"><img src=\"https://colab.research.google.com/assets/colab-badge.svg\" alt=\"Open In Colab\"/></a>"
      ]
    },
    {
      "cell_type": "code",
      "metadata": {
        "id": "MsF3E8V-JjPL"
      },
      "source": [
        "%tensorflow_version 2.x\n",
        "import tensorflow as tf "
      ],
      "execution_count": null,
      "outputs": []
    },
    {
      "cell_type": "code",
      "metadata": {
        "id": "wwRmGvbsMxpJ",
        "colab": {
          "base_uri": "https://localhost:8080/",
          "height": 35
        },
        "outputId": "2d86e303-2cea-4a11-adaf-2d1eae0bf018"
      },
      "source": [
        "from google.colab import drive\n",
        "drive.mount('/content/drive')"
      ],
      "execution_count": null,
      "outputs": [
        {
          "output_type": "stream",
          "text": [
            "Mounted at /content/drive\n"
          ],
          "name": "stdout"
        }
      ]
    },
    {
      "cell_type": "code",
      "metadata": {
        "id": "Wm71mxHPNs6_"
      },
      "source": [
        "import zipfile\n",
        "z=zipfile.ZipFile(\"/content/drive/My Drive/data/audio_2gig.zip\")\n",
        "z.extractall(\"/content/audio/\")"
      ],
      "execution_count": null,
      "outputs": []
    },
    {
      "cell_type": "code",
      "metadata": {
        "id": "j5v-ClMbTzVZ"
      },
      "source": [
        ""
      ],
      "execution_count": null,
      "outputs": []
    },
    {
      "cell_type": "code",
      "metadata": {
        "id": "avHEstXqdZRr"
      },
      "source": [
        "#import zipfile\n",
        "#z=zipfile.ZipFile(\"/content/drive/My Drive/data/16class_2gig.zip\")\n",
        "#z.extractall(\"/content/16class/\")"
      ],
      "execution_count": null,
      "outputs": []
    },
    {
      "cell_type": "code",
      "metadata": {
        "id": "jUWcnL8UQDsz"
      },
      "source": [
        "!cp -a '/content/drive/My Drive/data/_background_noise_/' /content/_background_noise_"
      ],
      "execution_count": null,
      "outputs": []
    },
    {
      "cell_type": "code",
      "metadata": {
        "id": "p9yjRkSSqSlt"
      },
      "source": [
        "#!cp '/content/drive/My Drive/data/audio.tar.gz' /content/"
      ],
      "execution_count": null,
      "outputs": []
    },
    {
      "cell_type": "code",
      "metadata": {
        "id": "h9GLq7XJTK30"
      },
      "source": [
        "#!tar -zxvf audio.tar.gz"
      ],
      "execution_count": null,
      "outputs": []
    },
    {
      "cell_type": "code",
      "metadata": {
        "id": "bqYgHw2uWgAc"
      },
      "source": [
        "#import shutil\n",
        "#shutil.make_archive('16class_2gig.zip', 'zip', '/content/16class')"
      ],
      "execution_count": null,
      "outputs": []
    },
    {
      "cell_type": "code",
      "metadata": {
        "id": "X4lDPD47Iqbn",
        "colab": {
          "base_uri": "https://localhost:8080/",
          "height": 238
        },
        "outputId": "f5c953eb-aea0-4282-f9d5-539089874998"
      },
      "source": [
        "import tensorflow as tf\n",
        "from tensorflow.keras.preprocessing.sequence import pad_sequences\n",
        "from tensorflow.keras import layers\n",
        "import librosa\n",
        "import matplotlib.pyplot as plt\n",
        "import os\n",
        "import numpy as np\n",
        "from random import shuffle\n",
        "from tensorflow.keras import layers\n",
        "import datetime\n",
        "import IPython.display as ipd\n",
        "from math import ceil\n",
        "from tensorflow.keras.preprocessing.image import ImageDataGenerator\n",
        "from scipy.io.wavfile import read\n",
        "from scipy.ndimage.interpolation import shift\n",
        "import IPython\n",
        "def norm(x):\n",
        "  mean=np.mean(x,axis=0,keepdims=True,dtype='float32')\n",
        "  std=np.std(x,axis=0,keepdims=True,dtype='float32')\n",
        "  tmp =  (x-mean)/std\n",
        "  return tmp\n",
        "def getwav(path):\n",
        "  x = []\n",
        "  y = []\n",
        "  for item in path:\n",
        "      _wav = item[0]\n",
        "      _y = item[1]\n",
        "      try:\n",
        "          _, _x = read(_wav)\n",
        "      except:\n",
        "        continue;\n",
        "      x.append(_x)\n",
        "      y.append(_y)\n",
        "  x = pad_sequences(x, sampleRate, 'float32', 'post', 'post')\n",
        "  x = np.expand_dims(x, 2)\n",
        "  \n",
        "  return x, np.array(y)\n",
        "\n",
        "sampleRate = 16000\n",
        "#train_path = 'audio/'\n",
        "classnames = ['cat','dog','left','right','on','off','yes','no']\n",
        "#batch_size = 32 \n",
        "\n",
        "total_wav_path = []\n",
        "\n",
        "for i in range(len(classnames)):\n",
        "    path_classname = 'audio/' + classnames[i] + \"/\"\n",
        "    wav_names = os.listdir(path_classname)\n",
        "    \n",
        "    for n in wav_names:\n",
        "        path_wav = path_classname + n\n",
        "        total_wav_path.append([path_wav, i])\n",
        "\n",
        "\n",
        "np.random.shuffle(total_wav_path)\n",
        "dataset_size = len(total_wav_path)\n",
        "train_split = int(0.8 * dataset_size)\n",
        "train_paths = total_wav_path[0:train_split]\n",
        "val_paths = total_wav_path[train_split:]\n",
        "xt,yt=getwav(train_paths)\n",
        "xv,yv=getwav(val_paths)\n",
        "#xt=norm(xt)\n",
        "#xv=norm(xv)"
      ],
      "execution_count": null,
      "outputs": [
        {
          "output_type": "error",
          "ename": "FileNotFoundError",
          "evalue": "ignored",
          "traceback": [
            "\u001b[0;31m---------------------------------------------------------------------------\u001b[0m",
            "\u001b[0;31mFileNotFoundError\u001b[0m                         Traceback (most recent call last)",
            "\u001b[0;32m<ipython-input-1-6d517772d5df>\u001b[0m in \u001b[0;36m<module>\u001b[0;34m()\u001b[0m\n\u001b[1;32m     46\u001b[0m \u001b[0;32mfor\u001b[0m \u001b[0mi\u001b[0m \u001b[0;32min\u001b[0m \u001b[0mrange\u001b[0m\u001b[0;34m(\u001b[0m\u001b[0mlen\u001b[0m\u001b[0;34m(\u001b[0m\u001b[0mclassnames\u001b[0m\u001b[0;34m)\u001b[0m\u001b[0;34m)\u001b[0m\u001b[0;34m:\u001b[0m\u001b[0;34m\u001b[0m\u001b[0;34m\u001b[0m\u001b[0m\n\u001b[1;32m     47\u001b[0m     \u001b[0mpath_classname\u001b[0m \u001b[0;34m=\u001b[0m \u001b[0;34m'audio/'\u001b[0m \u001b[0;34m+\u001b[0m \u001b[0mclassnames\u001b[0m\u001b[0;34m[\u001b[0m\u001b[0mi\u001b[0m\u001b[0;34m]\u001b[0m \u001b[0;34m+\u001b[0m \u001b[0;34m\"/\"\u001b[0m\u001b[0;34m\u001b[0m\u001b[0;34m\u001b[0m\u001b[0m\n\u001b[0;32m---> 48\u001b[0;31m     \u001b[0mwav_names\u001b[0m \u001b[0;34m=\u001b[0m \u001b[0mos\u001b[0m\u001b[0;34m.\u001b[0m\u001b[0mlistdir\u001b[0m\u001b[0;34m(\u001b[0m\u001b[0mpath_classname\u001b[0m\u001b[0;34m)\u001b[0m\u001b[0;34m\u001b[0m\u001b[0;34m\u001b[0m\u001b[0m\n\u001b[0m\u001b[1;32m     49\u001b[0m \u001b[0;34m\u001b[0m\u001b[0m\n\u001b[1;32m     50\u001b[0m     \u001b[0;32mfor\u001b[0m \u001b[0mn\u001b[0m \u001b[0;32min\u001b[0m \u001b[0mwav_names\u001b[0m\u001b[0;34m:\u001b[0m\u001b[0;34m\u001b[0m\u001b[0;34m\u001b[0m\u001b[0m\n",
            "\u001b[0;31mFileNotFoundError\u001b[0m: [Errno 2] No such file or directory: 'audio/cat/'"
          ]
        }
      ]
    },
    {
      "cell_type": "code",
      "metadata": {
        "id": "INvvmUurN1HT",
        "colab": {
          "base_uri": "https://localhost:8080/",
          "height": 285
        },
        "outputId": "849093f9-5158-4e21-d901-a65f6ab34fcd"
      },
      "source": [
        "plt.plot(xt[0,:,0])"
      ],
      "execution_count": null,
      "outputs": [
        {
          "output_type": "execute_result",
          "data": {
            "text/plain": [
              "[<matplotlib.lines.Line2D at 0x7f6226dd2898>]"
            ]
          },
          "metadata": {
            "tags": []
          },
          "execution_count": 7
        },
        {
          "output_type": "display_data",
          "data": {
            "image/png": "[encoded data removed]",
            "text/plain": [
              "<Figure size 432x288 with 1 Axes>"
            ]
          },
          "metadata": {
            "tags": [],
            "needs_background": "light"
          }
        }
      ]
    },
    {
      "cell_type": "code",
      "metadata": {
        "id": "h58RHsmN_6oo"
      },
      "source": [
        "total_wav_path\n"
      ],
      "execution_count": null,
      "outputs": []
    },
    {
      "cell_type": "code",
      "metadata": {
        "id": "UyGKBMJC_7r-",
        "colab": {
          "base_uri": "https://localhost:8080/",
          "height": 75
        },
        "outputId": "76e90c1b-5a77-4b03-fc28-6247950d530a"
      },
      "source": [
        "#['four', 'dog', 'left', 'right', 'yes', 'forward', 'happy', 'seven']\n",
        "IPython.display.Audio(filename='audio/right/0f7266cf_nohash_0.wav')"
      ],
      "execution_count": null,
      "outputs": [
        {
          "output_type": "execute_result",
          "data": {
            "text/html": [
              "\n",
              "                <audio controls=\"controls\" >\n",
              "                    <source src=\"data:audio/x-wav;base64,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\" type=\"audio/x-wav\" />\n",
              "                    Your browser does not support the audio element.\n",
              "                </audio>\n",
              "              "
            ],
            "text/plain": [
              "<IPython.lib.display.Audio object>"
            ]
          },
          "metadata": {
            "tags": []
          },
          "execution_count": 12
        }
      ]
    },
    {
      "cell_type": "code",
      "metadata": {
        "id": "pSn99zOOpI5N",
        "colab": {
          "base_uri": "https://localhost:8080/",
          "height": 283
        },
        "outputId": "048ef19c-ad11-4885-e36d-ad8f2ec27557"
      },
      "source": [
        "k=\n",
        "print(classnames[yv[k]])\n",
        "IPython.display.Audio(xv[k,:,0],rate=sampleRate)\n",
        "plt.plot(xv[k,:,0])\n",
        "plt.savefig('s.jpg')"
      ],
      "execution_count": null,
      "outputs": [
        {
          "output_type": "stream",
          "text": [
            "right\n"
          ],
          "name": "stdout"
        },
        {
          "output_type": "display_data",
          "data": {
            "image/png": "[encoded data removed]",
            "text/plain": [
              "<Figure size 432x288 with 1 Axes>"
            ]
          },
          "metadata": {
            "tags": [],
            "needs_background": "light"
          }
        }
      ]
    },
    {
      "cell_type": "code",
      "metadata": {
        "id": "IKDftdj4p_nu"
      },
      "source": [
        "IPython.display.Audio(filename='recorded.wav')"
      ],
      "execution_count": null,
      "outputs": []
    },
    {
      "cell_type": "code",
      "metadata": {
        "id": "65qQE7fErGZs",
        "colab": {
          "base_uri": "https://localhost:8080/",
          "height": 92
        },
        "outputId": "71c54c22-c1a5-4071-c142-3b8d4ef892f4"
      },
      "source": [
        "from scipy.signal import resample\n",
        "\n",
        "_,s=read('recorded.wav')\n",
        "res=resample(s,16000)\n",
        "a=s[::5]\n",
        "print(a.shape)\n",
        "IPython.display.Audio(res,rate=16000)\n"
      ],
      "execution_count": null,
      "outputs": [
        {
          "output_type": "stream",
          "text": [
            "(44100,)\n"
          ],
          "name": "stdout"
        },
        {
          "output_type": "execute_result",
          "data": {
            "text/html": [
              "\n",
              "                <audio controls=\"controls\" >\n",
              "                    <source src=\"data:audio/wav;base64,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\" type=\"audio/wav\" />\n",
              "                    Your browser does not support the audio element.\n",
              "                </audio>\n",
              "              "
            ],
            "text/plain": [
              "<IPython.lib.display.Audio object>"
            ]
          },
          "metadata": {
            "tags": []
          },
          "execution_count": 6
        }
      ]
    },
    {
      "cell_type": "code",
      "metadata": {
        "id": "Y_aC3reLSmAa",
        "colab": {
          "base_uri": "https://localhost:8080/",
          "height": 365
        },
        "outputId": "ee728ac8-73bb-49af-ad19-21aaf74b6fd5"
      },
      "source": [
        "lxt=[len(x) for x in xt]\n",
        "plt.hist(lxt)"
      ],
      "execution_count": null,
      "outputs": [
        {
          "output_type": "execute_result",
          "data": {
            "text/plain": [
              "(array([    0.,     0.,     0.,     0.,     0., 21408.,     0.,     0.,\n",
              "            0.,     0.]),\n",
              " array([15999.5, 15999.6, 15999.7, 15999.8, 15999.9, 16000. , 16000.1,\n",
              "        16000.2, 16000.3, 16000.4, 16000.5]),\n",
              " <a list of 10 Patch objects>)"
            ]
          },
          "metadata": {
            "tags": []
          },
          "execution_count": 37
        },
        {
          "output_type": "display_data",
          "data": {
            "image/png": "[encoded data removed]",
            "text/plain": [
              "<Figure size 432x288 with 1 Axes>"
            ]
          },
          "metadata": {
            "tags": [],
            "needs_background": "light"
          }
        }
      ]
    },
    {
      "cell_type": "code",
      "metadata": {
        "id": "hDd3PojKhoAn",
        "colab": {
          "base_uri": "https://localhost:8080/",
          "height": 283
        },
        "outputId": "7854bc7c-22ed-424e-ac81-2cbc852fa20c"
      },
      "source": [
        "bins = np.arange(0, yt.max() + 1.5) - 0.5\n",
        "vals=plt.hist(yt,bins)\n",
        "plt.hist(yv,bins)\n",
        "print(vals[0])\n",
        "plt.savefig('hist.jpg')"
      ],
      "execution_count": null,
      "outputs": [
        {
          "output_type": "stream",
          "text": [
            "[1644. 1683. 3037. 3051. 3088. 2997. 3237. 3113.]\n"
          ],
          "name": "stdout"
        },
        {
          "output_type": "display_data",
          "data": {
            "image/png": "[encoded data removed]",
            "text/plain": [
              "<Figure size 432x288 with 1 Axes>"
            ]
          },
          "metadata": {
            "tags": [],
            "needs_background": "light"
          }
        }
      ]
    },
    {
      "cell_type": "code",
      "metadata": {
        "id": "aRAxJ4eSmZ5r",
        "colab": {
          "base_uri": "https://localhost:8080/",
          "height": 158
        },
        "outputId": "8c107476-4f66-46e2-b397-95e30117ccc6"
      },
      "source": [
        "from sklearn.utils import class_weight\n",
        "class_weight_arr = class_weight.compute_class_weight('balanced'\n",
        "                                               ,np.unique(yt)\n",
        "                                               ,yt)\n",
        "class_weight_dict={i:class_weight_arr[i] for i in range(yt.max()+1)}\n",
        "class_weight_dict"
      ],
      "execution_count": null,
      "outputs": [
        {
          "output_type": "execute_result",
          "data": {
            "text/plain": [
              "{0: 1.6613442822384428,\n",
              " 1: 1.622846108140226,\n",
              " 2: 0.8993249917681923,\n",
              " 3: 0.8951982956407735,\n",
              " 4: 0.8844721502590673,\n",
              " 5: 0.911327994661328,\n",
              " 6: 0.8437596540006178,\n",
              " 7: 0.8773690973337617}"
            ]
          },
          "metadata": {
            "tags": []
          },
          "execution_count": 14
        }
      ]
    },
    {
      "cell_type": "code",
      "metadata": {
        "id": "-A3Z92z-c7iw",
        "colab": {
          "base_uri": "https://localhost:8080/",
          "height": 1000
        },
        "outputId": "c8ee14ca-ceff-458a-c2b4-344c3e9902f6"
      },
      "source": [
        "def myconv(x,fs,ks,st,pd):\n",
        "  x = layers.Conv1D(fs, ks, st , padding=pd)(x)\n",
        "  x = layers.BatchNormalization()(x)\n",
        "  x = layers.ReLU()(x)\n",
        "  x = layers.MaxPooling1D(2)(x)\n",
        "  return x\n",
        "ks=15\n",
        "st=5\n",
        "fs=64\n",
        "number_epochs=15\n",
        "learning_rate=0.003\n",
        "pd='valid'\n",
        "input_model = layers.Input((sampleRate, 1))\n",
        "mask = layers.Masking()(input_model)\n",
        "\n",
        "x = layers.MaxPooling1D(2)(mask)\n",
        "#x = layers.ReLU()(x)\n",
        "x=myconv(x,fs,ks,st,pd)\n",
        "x=myconv(x,fs,ks,st,pd)\n",
        "x=myconv(x,fs,ks,st,pd)\n",
        "#x = layers.GRU(8,return_sequences=True)(x)\n",
        "x = layers.GRU(16,return_sequences=False)(x)\n",
        "\n",
        "\n",
        "x = layers.Flatten()(x)\n",
        "x = layers.Dropout(0.2)(x)\n",
        "x = layers.Dense(len(classnames), 'softmax')(x)\n",
        "\n",
        "model = tf.keras.models.Model(input_model, x)\n",
        "op = tf.keras.optimizers.Adam(lr=learning_rate)\n",
        "model.compile(optimizer=op, loss=tf.keras.losses.sparse_categorical_crossentropy, metrics=['acc'])\n",
        "\n",
        "tensorpath = \"logs/\" + datetime.datetime.now().strftime(\"%y-%m-%d--%H-%M-%S\")\n",
        "tensorboard = tf.keras.callbacks.TensorBoard(tensorpath, histogram_freq=1)\n",
        "class mycallback(tf.keras.callbacks.Callback):\n",
        "    def __len__(self):\n",
        "        pass\n",
        "    def on_epoch_end(self, epoch, logs={}):\n",
        "        if logs.get('acc') > 0.95 :\n",
        "            self.model.stop_training = True\n",
        "\n",
        "stopacc=mycallback()\n",
        "        \n",
        "\n",
        "#train_data = mygenerator_v2(train_paths, batch_size, sampleRate, target_size,aug=False)\n",
        "#val_data = mygenerator_v2(val_paths, batch_size, sampleRate, target_size,aug= False)\n",
        "\n",
        "model.summary()\n",
        "print(\"training data :\" + str(train_split) + \",validation data :\" + str(dataset_size - train_split))\n",
        "hist = model.fit(xt,yt, epochs=number_epochs , class_weight=class_weight_dict\n",
        "                           #, callbacks=[tensorboard,stopacc]\n",
        "                           , validation_data=(xv,yv) \n",
        "                           , shuffle=True\n",
        "                                           \n",
        "                           )\n",
        "model.save('/content/drive/My Drive/data/model/audio.h5')"
      ],
      "execution_count": null,
      "outputs": [
        {
          "output_type": "stream",
          "text": [
            "Model: \"functional_15\"\n",
            "_________________________________________________________________\n",
            "Layer (type)                 Output Shape              Param #   \n",
            "=================================================================\n",
            "input_8 (InputLayer)         [(None, 16000, 1)]        0         \n",
            "_________________________________________________________________\n",
            "masking_7 (Masking)          (None, 16000, 1)          0         \n",
            "_________________________________________________________________\n",
            "max_pooling1d_28 (MaxPooling (None, 8000, 1)           0         \n",
            "_________________________________________________________________\n",
            "conv1d_21 (Conv1D)           (None, 1598, 64)          1024      \n",
            "_________________________________________________________________\n",
            "batch_normalization_21 (Batc (None, 1598, 64)          256       \n",
            "_________________________________________________________________\n",
            "re_lu_21 (ReLU)              (None, 1598, 64)          0         \n",
            "_________________________________________________________________\n",
            "max_pooling1d_29 (MaxPooling (None, 799, 64)           0         \n",
            "_________________________________________________________________\n",
            "conv1d_22 (Conv1D)           (None, 157, 64)           61504     \n",
            "_________________________________________________________________\n",
            "batch_normalization_22 (Batc (None, 157, 64)           256       \n",
            "_________________________________________________________________\n",
            "re_lu_22 (ReLU)              (None, 157, 64)           0         \n",
            "_________________________________________________________________\n",
            "max_pooling1d_30 (MaxPooling (None, 78, 64)            0         \n",
            "_________________________________________________________________\n",
            "conv1d_23 (Conv1D)           (None, 13, 64)            61504     \n",
            "_________________________________________________________________\n",
            "batch_normalization_23 (Batc (None, 13, 64)            256       \n",
            "_________________________________________________________________\n",
            "re_lu_23 (ReLU)              (None, 13, 64)            0         \n",
            "_________________________________________________________________\n",
            "max_pooling1d_31 (MaxPooling (None, 6, 64)             0         \n",
            "_________________________________________________________________\n",
            "gru_7 (GRU)                  (None, 16)                3936      \n",
            "_________________________________________________________________\n",
            "flatten_7 (Flatten)          (None, 16)                0         \n",
            "_________________________________________________________________\n",
            "dropout_7 (Dropout)          (None, 16)                0         \n",
            "_________________________________________________________________\n",
            "dense_7 (Dense)              (None, 8)                 136       \n",
            "=================================================================\n",
            "Total params: 128,872\n",
            "Trainable params: 128,488\n",
            "Non-trainable params: 384\n",
            "_________________________________________________________________\n",
            "training data :21850,validation data :5463\n",
            "Epoch 1/15\n",
            "683/683 [==============================] - 6s 9ms/step - loss: 1.0633 - acc: 0.6395 - val_loss: 0.6690 - val_acc: 0.7721\n",
            "Epoch 2/15\n",
            "683/683 [==============================] - 6s 9ms/step - loss: 0.5820 - acc: 0.8038 - val_loss: 0.4980 - val_acc: 0.8257\n",
            "Epoch 3/15\n",
            "683/683 [==============================] - 6s 9ms/step - loss: 0.4567 - acc: 0.8456 - val_loss: 0.5739 - val_acc: 0.8082\n",
            "Epoch 4/15\n",
            "683/683 [==============================] - 6s 9ms/step - loss: 0.4068 - acc: 0.8610 - val_loss: 0.3873 - val_acc: 0.8682\n",
            "Epoch 5/15\n",
            "683/683 [==============================] - 6s 9ms/step - loss: 0.3596 - acc: 0.8741 - val_loss: 0.4831 - val_acc: 0.8347\n",
            "Epoch 6/15\n",
            "683/683 [==============================] - 6s 9ms/step - loss: 0.3315 - acc: 0.8885 - val_loss: 0.3504 - val_acc: 0.8781\n",
            "Epoch 7/15\n",
            "683/683 [==============================] - 6s 9ms/step - loss: 0.2938 - acc: 0.8996 - val_loss: 0.3939 - val_acc: 0.8713\n",
            "Epoch 8/15\n",
            "683/683 [==============================] - 6s 9ms/step - loss: 0.2774 - acc: 0.9050 - val_loss: 0.4925 - val_acc: 0.8327\n",
            "Epoch 9/15\n",
            "683/683 [==============================] - 6s 9ms/step - loss: 0.2534 - acc: 0.9141 - val_loss: 0.3376 - val_acc: 0.8812\n",
            "Epoch 10/15\n",
            "683/683 [==============================] - 6s 9ms/step - loss: 0.2360 - acc: 0.9173 - val_loss: 0.3329 - val_acc: 0.8841\n",
            "Epoch 11/15\n",
            "683/683 [==============================] - 6s 9ms/step - loss: 0.2254 - acc: 0.9222 - val_loss: 0.2894 - val_acc: 0.8971\n",
            "Epoch 12/15\n",
            "683/683 [==============================] - 6s 9ms/step - loss: 0.2106 - acc: 0.9253 - val_loss: 0.4956 - val_acc: 0.8387\n",
            "Epoch 13/15\n",
            "683/683 [==============================] - 6s 9ms/step - loss: 0.2013 - acc: 0.9289 - val_loss: 0.3198 - val_acc: 0.8924\n",
            "Epoch 14/15\n",
            "683/683 [==============================] - 6s 9ms/step - loss: 0.1932 - acc: 0.9337 - val_loss: 0.3242 - val_acc: 0.8984\n",
            "Epoch 15/15\n",
            "683/683 [==============================] - 6s 9ms/step - loss: 0.1758 - acc: 0.9378 - val_loss: 0.4956 - val_acc: 0.8279\n"
          ],
          "name": "stdout"
        }
      ]
    },
    {
      "cell_type": "code",
      "metadata": {
        "id": "BC7WjuwaOxEC"
      },
      "source": [
        ""
      ],
      "execution_count": null,
      "outputs": []
    },
    {
      "cell_type": "code",
      "metadata": {
        "id": "Zb6aLJaGSucU"
      },
      "source": [
        "683/683 [==============================] - 6s 9ms/step - loss: 0.2666 - acc: 0.9043 - val_loss: 0.4118 - val_acc: 0.8748"
      ],
      "execution_count": null,
      "outputs": []
    },
    {
      "cell_type": "code",
      "metadata": {
        "id": "zfKKVEPsMhFK",
        "colab": {
          "base_uri": "https://localhost:8080/",
          "height": 182
        },
        "outputId": "e1278899-140c-4e0d-d05e-38a084ed4e6b"
      },
      "source": [
        "#train_data = mygenerator_v2(train_paths, batch_size, sampleRate, target_size ,aug= True)\n",
        "#val_data = mygenerator_v2(val_paths, batch_size, sampleRate, target_size, aug=False)"
      ],
      "execution_count": null,
      "outputs": [
        {
          "output_type": "error",
          "ename": "NameError",
          "evalue": "ignored",
          "traceback": [
            "\u001b[0;31m---------------------------------------------------------------------------\u001b[0m",
            "\u001b[0;31mNameError\u001b[0m                                 Traceback (most recent call last)",
            "\u001b[0;32m<ipython-input-68-0601ec26e02a>\u001b[0m in \u001b[0;36m<module>\u001b[0;34m()\u001b[0m\n\u001b[0;32m----> 1\u001b[0;31m \u001b[0mtrain_data\u001b[0m \u001b[0;34m=\u001b[0m \u001b[0mmygenerator_v2\u001b[0m\u001b[0;34m(\u001b[0m\u001b[0mtrain_paths\u001b[0m\u001b[0;34m,\u001b[0m \u001b[0mbatch_size\u001b[0m\u001b[0;34m,\u001b[0m \u001b[0msampleRate\u001b[0m\u001b[0;34m,\u001b[0m \u001b[0mtarget_size\u001b[0m \u001b[0;34m,\u001b[0m\u001b[0maug\u001b[0m\u001b[0;34m=\u001b[0m \u001b[0;32mTrue\u001b[0m\u001b[0;34m)\u001b[0m\u001b[0;34m\u001b[0m\u001b[0;34m\u001b[0m\u001b[0m\n\u001b[0m\u001b[1;32m      2\u001b[0m \u001b[0mval_data\u001b[0m \u001b[0;34m=\u001b[0m \u001b[0mmygenerator_v2\u001b[0m\u001b[0;34m(\u001b[0m\u001b[0mval_paths\u001b[0m\u001b[0;34m,\u001b[0m \u001b[0mbatch_size\u001b[0m\u001b[0;34m,\u001b[0m \u001b[0msampleRate\u001b[0m\u001b[0;34m,\u001b[0m \u001b[0mtarget_size\u001b[0m\u001b[0;34m,\u001b[0m \u001b[0maug\u001b[0m\u001b[0;34m=\u001b[0m\u001b[0;32mFalse\u001b[0m\u001b[0;34m)\u001b[0m\u001b[0;34m\u001b[0m\u001b[0;34m\u001b[0m\u001b[0m\n",
            "\u001b[0;31mNameError\u001b[0m: name 'mygenerator_v2' is not defined"
          ]
        }
      ]
    },
    {
      "cell_type": "code",
      "metadata": {
        "id": "CmHbENTfrQ38"
      },
      "source": [
        "#model.optimizer=tf.keras.optimizers.Adam(0.001)\n",
        "#hist = model.fit(train_data, epochs=30, callbacks=[tensorboard], validation_data=val_data, max_queue_size=30,\n",
        "#                 shuffle=False,initial_epoch=25)\n"
      ],
      "execution_count": null,
      "outputs": []
    },
    {
      "cell_type": "code",
      "metadata": {
        "id": "W-ilpyyDZZxK"
      },
      "source": [
        "#model.save('/content/drive/My Drive/data/model/audio.h5')"
      ],
      "execution_count": null,
      "outputs": []
    },
    {
      "cell_type": "code",
      "metadata": {
        "id": "8RO9rJf6OeQN"
      },
      "source": [
        "\"\"\"!zip -r /content/logs.zip /content/logs\n",
        "from google.colab import files\n",
        "files.download(\"/content/logs.zip\")\"\"\""
      ],
      "execution_count": null,
      "outputs": []
    },
    {
      "cell_type": "code",
      "metadata": {
        "id": "to-7DCapzK8-"
      },
      "source": [
        "\"\"\"! wget https://bin.equinox.io/c/4VmDzA7iaHb/ngrok-stable-linux-amd64.zip\n",
        "! unzip ngrok-stable-linux-amd64.zip\"\"\""
      ],
      "execution_count": null,
      "outputs": []
    },
    {
      "cell_type": "code",
      "metadata": {
        "id": "ROyLT88QwG_E"
      },
      "source": [
        "\"\"\"LOG_DIR = '/content/logs'\n",
        "get_ipython().system_raw(\n",
        "    'tensorboard --logdir {} --host 0.0.0.0 --port 6006 &'\n",
        "    .format(LOG_DIR)\n",
        ")\n",
        "\n",
        "get_ipython().system_raw('./ngrok http 6006 &')\n",
        "! curl -s http://localhost:4040/api/tunnels | python3 -c \\\n",
        "    \"import sys, json; print(json.load(sys.stdin)['tunnels'][0]['public_url'])\"\"\"\""
      ],
      "execution_count": null,
      "outputs": []
    },
    {
      "cell_type": "code",
      "metadata": {
        "id": "EYQcuVWuDKqD",
        "colab": {
          "base_uri": "https://localhost:8080/",
          "height": 545
        },
        "outputId": "c52f9281-472f-4d11-d175-4c31cf7744b6"
      },
      "source": [
        "\n",
        "#-----------------------------------------------------------\n",
        "# Retrieve a list of list results on training and test data\n",
        "# sets for each training epoch\n",
        "#-----------------------------------------------------------\n",
        "history = hist\n",
        "acc      = history.history[     'acc' ]\n",
        "val_acc  = history.history[ 'val_acc' ]\n",
        "loss     = history.history[    'loss' ]\n",
        "val_loss = history.history['val_loss' ]\n",
        "\n",
        "epochs   = range(len(acc)) # Get number of epochs\n",
        "\n",
        "#------------------------------------------------\n",
        "# Plot training and validation accuracy per epoch\n",
        "#------------------------------------------------\n",
        "#plt.figure(figsize=(5,4))\n",
        "plt.plot  ( epochs,     acc )\n",
        "plt.plot  ( epochs, val_acc )\n",
        "plt.title ('Training and validation accuracy')\n",
        "plt.savefig('train.jpg')\n",
        "plt.figure()\n",
        "\n",
        "#------------------------------------------------\n",
        "# Plot training and validation loss per epoch\n",
        "#------------------------------------------------\n",
        "plt.plot  ( epochs,     loss )\n",
        "plt.plot  ( epochs, val_loss )\n",
        "plt.title ('Training and validation loss')\n",
        "plt.savefig('val.jpg')\n"
      ],
      "execution_count": null,
      "outputs": [
        {
          "output_type": "display_data",
          "data": {
            "image/png": "[encoded data removed]",
            "text/plain": [
              "<Figure size 432x288 with 1 Axes>"
            ]
          },
          "metadata": {
            "tags": [],
            "needs_background": "light"
          }
        },
        {
          "output_type": "display_data",
          "data": {
            "image/png": "[encoded data removed]",
            "text/plain": [
              "<Figure size 432x288 with 1 Axes>"
            ]
          },
          "metadata": {
            "tags": [],
            "needs_background": "light"
          }
        }
      ]
    },
    {
      "cell_type": "code",
      "metadata": {
        "id": "YtH7E0yENeqS",
        "colab": {
          "base_uri": "https://localhost:8080/",
          "height": 265
        },
        "outputId": "a4fac794-d4f3-47cc-e469-47fbe93d2600"
      },
      "source": [
        "plt.acorr(xt[20,:,0],maxlags=20)\n",
        "plt.savefig('data.jpg')\n"
      ],
      "execution_count": null,
      "outputs": [
        {
          "output_type": "display_data",
          "data": {
            "image/png": "[encoded data removed]",
            "text/plain": [
              "<Figure size 432x288 with 1 Axes>"
            ]
          },
          "metadata": {
            "tags": [],
            "needs_background": "light"
          }
        }
      ]
    },
    {
      "cell_type": "code",
      "metadata": {
        "id": "VYSks1nx-ggP",
        "colab": {
          "base_uri": "https://localhost:8080/",
          "height": 813
        },
        "outputId": "fc1e9eb4-7306-422a-cf84-2cc8059a0d13"
      },
      "source": [
        "from scipy.ndimage.interpolation import shift\n",
        "x=[]\n",
        "srx , x1 = read(\"/content/audio/right/0137b3f4_nohash_3.wav\")\n",
        "srx , x2 = read(\"/content/audio/right/0137b3f4_nohash_0.wav\")\n",
        "x.append(x1)\n",
        "x.append(x2)\n",
        "srd , dish = read('/content/audio/_background_noise_/doing_the_dishes.wav')\n",
        "\n",
        "plt.plot(x[1])\n",
        "r=np.random.uniform(-0.3,0.3,1)\n",
        "r=int(r*16000)\n",
        "x=shift(x,r,cval=0)\n",
        "\n",
        "plt.figure()\n",
        "plt.plot(x[1])\n",
        "\n",
        "r=np.random.uniform(0,93,1)\n",
        "d=dish[int(r*16000):int((r+1)*16000)]\n",
        "x=x+d\n",
        "plt.figure()\n",
        "plt.plot(x[1])\n",
        "\n"
      ],
      "execution_count": null,
      "outputs": [
        {
          "output_type": "stream",
          "text": [
            "/usr/local/lib/python3.6/dist-packages/ipykernel_launcher.py:7: WavFileWarning: Chunk (non-data) not understood, skipping it.\n",
            "  import sys\n"
          ],
          "name": "stderr"
        },
        {
          "output_type": "execute_result",
          "data": {
            "text/plain": [
              "[<matplotlib.lines.Line2D at 0x7f5d8e243be0>]"
            ]
          },
          "metadata": {
            "tags": []
          },
          "execution_count": 63
        },
        {
          "output_type": "display_data",
          "data": {
            "image/png": "[encoded data removed]",
            "text/plain": [
              "<Figure size 432x288 with 1 Axes>"
            ]
          },
          "metadata": {
            "tags": [],
            "needs_background": "light"
          }
        },
        {
          "output_type": "display_data",
          "data": {
            "image/png": "[encoded data removed]",
            "text/plain": [
              "<Figure size 432x288 with 1 Axes>"
            ]
          },
          "metadata": {
            "tags": [],
            "needs_background": "light"
          }
        },
        {
          "output_type": "display_data",
          "data": {
            "image/png": "[encoded data removed]",
            "text/plain": [
              "<Figure size 432x288 with 1 Axes>"
            ]
          },
          "metadata": {
            "tags": [],
            "needs_background": "light"
          }
        }
      ]
    },
    {
      "cell_type": "code",
      "metadata": {
        "id": "8AHZqhf6nLIu",
        "colab": {
          "base_uri": "https://localhost:8080/",
          "height": 106
        },
        "outputId": "875ba42a-1e79-4dac-a75a-5e1017af9ae0"
      },
      "source": [
        "k=15\n",
        "model=tf.keras.models.load_model('/content/drive/My Drive/data/model/audio.h5')\n",
        "srx , x1 = read(train_paths[k][0])#'audio/'+classnames[0]+'/84bf12ff_nohash_1.wav')\n",
        "x1=x1[None,:,None]\n",
        "print(x1.shape)\n",
        "#x1=norm(x1)\n",
        "\n",
        "p=model.predict(x1,steps=1)\n",
        "p=np.argmax(p)\n",
        "print(p,train_paths[k][1])\n"
      ],
      "execution_count": null,
      "outputs": [
        {
          "output_type": "stream",
          "text": [
            "(1, 16000, 1)\n",
            "WARNING:tensorflow:11 out of the last 11 calls to <function Model.make_predict_function.<locals>.predict_function at 0x7f5d90d92ae8> triggered tf.function retracing. Tracing is expensive and the excessive number of tracings could be due to (1) creating @tf.function repeatedly in a loop, (2) passing tensors with different shapes, (3) passing Python objects instead of tensors. For (1), please define your @tf.function outside of the loop. For (2), @tf.function has experimental_relax_shapes=True option that relaxes argument shapes that can avoid unnecessary retracing. For (3), please refer to https://www.tensorflow.org/tutorials/customization/performance#python_or_tensor_args and https://www.tensorflow.org/api_docs/python/tf/function for  more details.\n"
          ],
          "name": "stdout"
        },
        {
          "output_type": "stream",
          "text": [
            "WARNING:tensorflow:11 out of the last 11 calls to <function Model.make_predict_function.<locals>.predict_function at 0x7f5d90d92ae8> triggered tf.function retracing. Tracing is expensive and the excessive number of tracings could be due to (1) creating @tf.function repeatedly in a loop, (2) passing tensors with different shapes, (3) passing Python objects instead of tensors. For (1), please define your @tf.function outside of the loop. For (2), @tf.function has experimental_relax_shapes=True option that relaxes argument shapes that can avoid unnecessary retracing. For (3), please refer to https://www.tensorflow.org/tutorials/customization/performance#python_or_tensor_args and https://www.tensorflow.org/api_docs/python/tf/function for  more details.\n"
          ],
          "name": "stderr"
        },
        {
          "output_type": "stream",
          "text": [
            "3 3\n"
          ],
          "name": "stdout"
        }
      ]
    },
    {
      "cell_type": "code",
      "metadata": {
        "id": "Lb-MoOkNyFtz",
        "colab": {
          "base_uri": "https://localhost:8080/",
          "height": 51
        },
        "outputId": "59a0dc05-cee7-40ba-96fa-f514f7066903"
      },
      "source": [
        "#model.save('audio.tflite')\n",
        "converter = tf.lite.TFLiteConverter.from_keras_model(model)\n",
        "\n",
        "#converter.optimizations = [tf.lite.Optimize.OPTIMIZE_FOR_SIZE]\n",
        "#converter.target_spec.supported_ops = [tf.lite.OpsSet.TFLITE_BUILTINS, tf.lite.OpsSet.SELECT_TF_OPS]\n",
        "converter.allow_custom_ops=True\n",
        "converter.experimental_new_converter =True\n",
        "tflite_model = converter.convert()\n",
        "\n"
      ],
      "execution_count": null,
      "outputs": [
        {
          "output_type": "stream",
          "text": [
            "INFO:tensorflow:Assets written to: /tmp/tmpo8f5ja8l/assets\n"
          ],
          "name": "stdout"
        },
        {
          "output_type": "stream",
          "text": [
            "INFO:tensorflow:Assets written to: /tmp/tmpo8f5ja8l/assets\n"
          ],
          "name": "stderr"
        }
      ]
    },
    {
      "cell_type": "code",
      "metadata": {
        "id": "2DVfSNmFSUJh",
        "colab": {
          "base_uri": "https://localhost:8080/",
          "height": 34
        },
        "outputId": "0e03350e-146c-4039-d353-e5160ec781be"
      },
      "source": [
        "open(\"converted_model.tflite\", \"wb\").write(tflite_model)"
      ],
      "execution_count": null,
      "outputs": [
        {
          "output_type": "execute_result",
          "data": {
            "text/plain": [
              "531744"
            ]
          },
          "metadata": {
            "tags": []
          },
          "execution_count": 158
        }
      ]
    },
    {
      "cell_type": "code",
      "metadata": {
        "id": "Kl7kKpE6JMY3"
      },
      "source": [
        "\n",
        "#interpreter = tf.lite.Interpreter(model_content=tflite_model)\n",
        "interpreter = tf.lite.Interpreter(model_path='converted_model.tflite')\n",
        "\n",
        "interpreter.allocate_tensors()\n",
        "\n",
        "# Get input and output tensors.\n",
        "input_details = interpreter.get_input_details()\n",
        "output_details = interpreter.get_output_details()\n",
        "\n",
        "# Test the TensorFlow Lite model on random input data.\n",
        "input_shape = input_details[0]['shape']\n",
        "input_data = np.array(np.random.random_sample(input_shape), dtype=np.float32)\n",
        "interpreter.set_tensor(input_details[0]['index'], input_data)\n",
        "\n",
        "interpreter.invoke()\n",
        "\n",
        "# The function `get_tensor()` returns a copy of the tensor data.\n",
        "# Use `tensor()` in order to get a pointer to the tensor.\n",
        "tflite_results = interpreter.get_tensor(output_details[0]['index'])\n",
        "\n",
        "# Test the TensorFlow model on random input data.\n",
        "#tf_results = model(tf.constant(input_data))\n",
        "\n",
        "# Compare the result.\n",
        "#for tf_result, tflite_result in zip(tf_results, tflite_results):\n",
        "#  np.testing.assert_almost_equal(tf_result, tflite_result, decimal=5)\n",
        "\n"
      ],
      "execution_count": null,
      "outputs": []
    },
    {
      "cell_type": "code",
      "metadata": {
        "id": "wjKSzpfdWks0",
        "colab": {
          "base_uri": "https://localhost:8080/",
          "height": 51
        },
        "outputId": "d2f983e5-24ba-4a89-a585-73c10c5507b9"
      },
      "source": [
        "tflite_results"
      ],
      "execution_count": null,
      "outputs": [
        {
          "output_type": "execute_result",
          "data": {
            "text/plain": [
              "array([[0.1453054 , 0.03180395, 0.05495522, 0.05664356, 0.42066962,\n",
              "        0.2013803 , 0.02742165, 0.06182026]], dtype=float32)"
            ]
          },
          "metadata": {
            "tags": []
          },
          "execution_count": 160
        }
      ]
    },
    {
      "cell_type": "code",
      "metadata": {
        "id": "eTniiam4aDir",
        "colab": {
          "base_uri": "https://localhost:8080/",
          "height": 34
        },
        "outputId": "341a0e92-107c-4343-aa44-3c6937efba88"
      },
      "source": [
        "k=5\n",
        "#srx , x1 = read(val_paths[k][0])\n",
        "srx , x1 = read('audio/'+classnames[1]+'/84bf12ff_nohash_1.wav')\n",
        "x1=x1[None,:,None].astype('float32')\n",
        "\n",
        "#x1=norm(x1)\n",
        "\n",
        "\n",
        "interpreter = tf.lite.Interpreter(model_path='converted_model.tflite')\n",
        "interpreter.allocate_tensors()\n",
        "\n",
        "# Get input and output tensors.\n",
        "input_details = interpreter.get_input_details()\n",
        "output_details = interpreter.get_output_details()\n",
        "interpreter.set_tensor(input_details[0]['index'], x1)\n",
        "\n",
        "interpreter.invoke()\n",
        "\n",
        "p = interpreter.get_tensor(output_details[0]['index'])\n",
        "p=np.argmax(p)\n",
        "print(classnames[p],p)"
      ],
      "execution_count": null,
      "outputs": [
        {
          "output_type": "stream",
          "text": [
            "dog 1\n"
          ],
          "name": "stdout"
        }
      ]
    },
    {
      "cell_type": "code",
      "metadata": {
        "id": "u5lYyPBbP92E"
      },
      "source": [
        "tf.version.GIT_VERSION"
      ],
      "execution_count": null,
      "outputs": []
    },
    {
      "cell_type": "code",
      "metadata": {
        "id": "Kr7cJb4zOIn8"
      },
      "source": [
        "val_paths[k][0]"
      ],
      "execution_count": null,
      "outputs": []
    },
    {
      "cell_type": "code",
      "metadata": {
        "id": "VmJdaSXdE_0q"
      },
      "source": [
        "from google.colab import files\n",
        "\n",
        "files.download(val_paths[k][0])"
      ],
      "execution_count": null,
      "outputs": []
    },
    {
      "cell_type": "code",
      "metadata": {
        "id": "BOfk7DFm1_0j"
      },
      "source": [
        "!pip install sounddevice \n",
        "!apt-get install libportaudio2"
      ],
      "execution_count": null,
      "outputs": []
    },
    {
      "cell_type": "code",
      "metadata": {
        "id": "N2iHigK2pqSJ"
      },
      "source": [
        "import sounddevice as sd\n",
        "from scipy.io.wavfile import write\n",
        "\n",
        "fs = 44100  # Sample rate\n",
        "seconds = 3  # Duration of recording\n",
        "\n",
        "myrecording = sd.rec(int(seconds * fs), samplerate=fs, channels=2)\n",
        "sd.wait()  # Wait until recording is finished\n",
        "write('output.wav', fs, myrecording)  # Save as WAV file "
      ],
      "execution_count": null,
      "outputs": []
    },
    {
      "cell_type": "code",
      "metadata": {
        "id": "sakJf7Bk7a0m"
      },
      "source": [
        "from scipy.io.wavfile import read\n",
        "\n",
        "srx , x = read(\"t6.wav\")\n",
        "x\n"
      ],
      "execution_count": null,
      "outputs": []
    },
    {
      "cell_type": "code",
      "metadata": {
        "id": "ViUcaCF0OytE",
        "colab": {
          "base_uri": "https://localhost:8080/",
          "height": 1000
        },
        "outputId": "9b65aa8f-1953-422d-bed8-4f9c3e53a39e"
      },
      "source": [
        "#m=tf.keras.models.load_model('/content/drive/My Drive/data/model/audio.h5')\n",
        "m=tf.keras.models.load_model('/content/sample_data/audio.h5')\n",
        "tf.keras.utils.plot_model(m)\n",
        "m.summary()"
      ],
      "execution_count": null,
      "outputs": [
        {
          "output_type": "stream",
          "text": [
            "Model: \"model_9\"\n",
            "_________________________________________________________________\n",
            "Layer (type)                 Output Shape              Param #   \n",
            "=================================================================\n",
            "input_10 (InputLayer)        [(None, 16000, 1)]        0         \n",
            "_________________________________________________________________\n",
            "max_pooling1d_45 (MaxPooling (None, 1600, 1)           0         \n",
            "_________________________________________________________________\n",
            "conv1d_38 (Conv1D)           (None, 1600, 8)           48        \n",
            "_________________________________________________________________\n",
            "batch_normalization_38 (Batc (None, 1600, 8)           32        \n",
            "_________________________________________________________________\n",
            "re_lu_38 (ReLU)              (None, 1600, 8)           0         \n",
            "_________________________________________________________________\n",
            "max_pooling1d_46 (MaxPooling (None, 800, 8)            0         \n",
            "_________________________________________________________________\n",
            "conv1d_39 (Conv1D)           (None, 800, 16)           656       \n",
            "_________________________________________________________________\n",
            "batch_normalization_39 (Batc (None, 800, 16)           64        \n",
            "_________________________________________________________________\n",
            "re_lu_39 (ReLU)              (None, 800, 16)           0         \n",
            "_________________________________________________________________\n",
            "max_pooling1d_47 (MaxPooling (None, 400, 16)           0         \n",
            "_________________________________________________________________\n",
            "conv1d_40 (Conv1D)           (None, 400, 32)           2592      \n",
            "_________________________________________________________________\n",
            "batch_normalization_40 (Batc (None, 400, 32)           128       \n",
            "_________________________________________________________________\n",
            "re_lu_40 (ReLU)              (None, 400, 32)           0         \n",
            "_________________________________________________________________\n",
            "conv1d_41 (Conv1D)           (None, 400, 32)           5152      \n",
            "_________________________________________________________________\n",
            "batch_normalization_41 (Batc (None, 400, 32)           128       \n",
            "_________________________________________________________________\n",
            "re_lu_41 (ReLU)              (None, 400, 32)           0         \n",
            "_________________________________________________________________\n",
            "max_pooling1d_48 (MaxPooling (None, 200, 32)           0         \n",
            "_________________________________________________________________\n",
            "conv1d_42 (Conv1D)           (None, 200, 64)           10304     \n",
            "_________________________________________________________________\n",
            "batch_normalization_42 (Batc (None, 200, 64)           256       \n",
            "_________________________________________________________________\n",
            "re_lu_42 (ReLU)              (None, 200, 64)           0         \n",
            "_________________________________________________________________\n",
            "conv1d_43 (Conv1D)           (None, 200, 64)           20544     \n",
            "_________________________________________________________________\n",
            "batch_normalization_43 (Batc (None, 200, 64)           256       \n",
            "_________________________________________________________________\n",
            "re_lu_43 (ReLU)              (None, 200, 64)           0         \n",
            "_________________________________________________________________\n",
            "max_pooling1d_49 (MaxPooling (None, 100, 64)           0         \n",
            "_________________________________________________________________\n",
            "gru_9 (GRU)                  (None, 100)               49800     \n",
            "_________________________________________________________________\n",
            "flatten_9 (Flatten)          (None, 100)               0         \n",
            "_________________________________________________________________\n",
            "dense_9 (Dense)              (None, 8)                 808       \n",
            "=================================================================\n",
            "Total params: 90,768\n",
            "Trainable params: 90,336\n",
            "Non-trainable params: 432\n",
            "_________________________________________________________________\n"
          ],
          "name": "stdout"
        }
      ]
    }
  ]
}